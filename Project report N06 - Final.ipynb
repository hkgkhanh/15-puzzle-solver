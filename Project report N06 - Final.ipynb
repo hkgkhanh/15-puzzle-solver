{
 "cells": [
  {
   "cell_type": "markdown",
   "metadata": {},
   "source": [
    "# Báo cáo Project\n",
    "Lớp TTNT-156272, Nhóm G06"
   ]
  },
  {
   "cell_type": "markdown",
   "metadata": {},
   "source": [
    "## 1. Thông tin chung"
   ]
  },
  {
   "cell_type": "markdown",
   "metadata": {},
   "source": [
    "### Thành viên\n",
    "- Nông Quốc Khánh 20226088\n",
    "- Đỗ Quang Bắc Kỳ 20226111\n",
    "- Nguyễn Duy Anh 20226103\n",
    "- Nguyễn Minh Tuấn 20226095"
   ]
  },
  {
   "cell_type": "markdown",
   "metadata": {},
   "source": [
    "### Lịch thực hiện\n",
    "- W25: Đăng ký nhóm \n",
    "- W26: Đề xuất project (1/3)\n",
    "- W31: Báo cáo tiến độ giữa kỳ (5/4)\n",
    "- W37: Hoàn thành và gửi báo cáo project (17/5)\n",
    "- W38-40: Trình bày project, Q&A"
   ]
  },
  {
   "cell_type": "markdown",
   "metadata": {},
   "source": [
    "## 2. Đề xuất project (W26)"
   ]
  },
  {
   "cell_type": "markdown",
   "metadata": {},
   "source": [
    "### Bài toán\n",
    "Lập trình, minh họa giao diện và so sánh các giải thuật giải trò chơi ô số 4x4 (15 puzzle)."
   ]
  },
  {
   "cell_type": "markdown",
   "metadata": {},
   "source": [
    "### Phương pháp\n",
    "Project bao gồm 2 công việc lớn:\n",
    "- Lập trình thuật toán giải 15 puzzle, nhóm chúng em quyết định lập trình các thuật toán sau:\n",
    "    - Phương pháp giải truyền thống: *Layer By Layer* (giải từng tầng một từ trên xuống dưới) và *Reduction* (giải hàng trên cùng và bên trái để đưa về bài toán 8 puzzle). Đây là 2 phương pháp phổ biến được người chơi con người sử dụng để giải tốc độ, không quan tâm đến việc tối ưu hóa số bước giải.\n",
    "    - BFS, DFS.\n",
    "    - IDS, UCS.\n",
    "    - Greed Best-first search.\n",
    "    - A*, IDA*.\n",
    "- Lập trình giao diện hiển thị lời giải tìm được của mỗi thuật toán và so sánh về mặt thời gian tìm lời giải và số bước của lời giải.\n",
    "\n",
    "Để thực hiện các công việc trên, nhóm dự định sử dụng công nghệ JavaScript, HTML, CSS."
   ]
  },
  {
   "cell_type": "markdown",
   "metadata": {},
   "source": [
    "### Phân công\n",
    "- Nông Quốc Khánh:\n",
    "    - Lập trình LBL, Reduction.\n",
    "    - Thiết kế giao diện.\n",
    "- Đỗ Quang Bắc Kỳ:\n",
    "    - Lập trình A*, IDA*.\n",
    "- Nguyễn Duy Anh:\n",
    "    - Lập trình IDS, Greedy Best-first search.\n",
    "- Nguyễn Minh Tuấn:\n",
    "    - Lập trình BFS, DFS."
   ]
  },
  {
   "cell_type": "markdown",
   "metadata": {},
   "source": [
    "## 3. Tiến độ giữa kỳ (W31)"
   ]
  },
  {
   "cell_type": "markdown",
   "metadata": {},
   "source": [
    "### Chương trình\n",
    "Tính đến ngày 5 tháng 4 năm 2025, nhóm đã hoàn thiện:\n",
    "- Giao diện hiển thị một cách song song các lời giải tìm được (Quốc Khánh thực hiện).\n",
    "- Thuật toán Layer by Layer (phương pháp giải thông thường) (Quốc Khánh thực hiện).\n",
    "- Thuật toán A* (Bắc Kỳ thực hiện).\n",
    "- Thuật toán Greedy Best First Search (Duy Anh thực hiện).\n",
    "- Thuật toán Breadth First Search (Minh Tuấn thực hiện).\n"
   ]
  },
  {
   "cell_type": "markdown",
   "metadata": {},
   "source": [
    "### Kết quả, vấn đề gặp phải\n",
    "- Các thuật toán Layer by Layer và Greedy Best First Search thực hiện nhanh, chỉ từ vài mili giây đến vài chục giây\n",
    "- Giao diện mặc dù dễ hiểu nhưng chưa thật sự đẹp mắt và chưa hiển thị quá trình tìm lời giải, mới chỉ hiển thị quá trình thực hiện lời giải tìm được.\n",
    "- Thuật toán A* và Breadth First Search mất quá nhiều thời gian để thực hiện (trung bình mất đến nhiều giờ đồng hồ).\n",
    "### Ý tưởng giải quyết vấn đề gặp phải\n",
    "- Đối với các thuật toán A* và BFS, nhóm dự định tiếp cận theo hướng chia nhỏ mục tiêu thành các giai đoạn, mỗi giai đoạn giải một phần của 15 puzzle (ví dụ như giải 1 hàng, 1 cột hoặc đưa về 8-puzzle...).\n",
    "- Sau đó thử gộp lại một vài bước để thử xem có lâu như vấn đề gặp phải hiện giờ không, nếu không lâu thì có thể giữ cách gộp như vậy. Như vậy có thể tìm được lời giải cân bằng giữa thời gian tìm lời giải và độ dài của lời giải."
   ]
  },
  {
   "cell_type": "markdown",
   "metadata": {},
   "source": [
    "## 4. Cập nhật kết quả cuối kỳ (W37)"
   ]
  },
  {
   "cell_type": "markdown",
   "metadata": {},
   "source": [
    "### Chi tiết phương pháp, dữ liệu \n",
    "Sau những nhận xét, hướng tiếp cận từ giữa kỳ, nhóm kết luận rằng chỉ sử dụng các thuật toán tìm kiếm cơ bản, heuristic... là không đủ để giải quyết được mọi trạng thái của bài toán 15 puzzle với năng lực tính toán của máy tính hiện giờ, bất kể hàm heuristic có tốt đến đâu. Với nhận định như vậy, nhóm nhận thấy vẫn có thể áp dụng các giải thuật tìm kiếm cơ bản cho bài toán này, nhưng cần phải thu nhỏ không gian tìm kiếm. Để làm được như vậy, có 2 hướng đi tiếp từ đây:\n",
    "\n",
    "- Giải theo kiểu có công thức cho một số bước đầu để đưa về một bài toán nhỏ hơn. Cụ thể: Các ô 1, 2, 3, và 4 được giải theo công thức được xác định như thuật toán Layer by Layer (đã được cài đặt từ giữa kỳ), sau đó bảng 3x4 còn lại được giải bằng thuật toán tìm kiếm cơ bản như Breadth First Search, Greedy Best First Search, A*... Cách làm này đã được chứng minh hiệu suất thông qua thực nghiệm, với thời gian tìm lời giải dao động từ vài giây đến vài chục giây.\n",
    "- Sử dụng Pattern Database, tức là lưu trữ sẵn một số lượng các trạng thái và lời giải cho các trạng thái đó. Thuật toán tìm kiếm đi từ trạng thái ban đầu tìm lời giải đến một trong các trạng thái được lưu trữ. Trên thực tế, đây là phương pháp được sử dụng phổ biến nhất trong các chương trình giải 15-puzzle vì tính nhanh chóng và không yêu cầu tài nguyên máy tính lớn. Tuy nhiên, vì bản chất đây là phương pháp sử dụng bộ nhớ ngoài, tránh khỏi việc sử dụng thuật toán tìm kiếm nên trong khuôn khổ bài tập lớn môn học, nhóm quyết định hạn chế đi theo phương pháp này. Tuy nhiên, nếu còn thời gian từ giờ đến lúc thuyết trình, nhóm sẽ cài đặt thuật toán theo phương pháp này như sau: Từ trạng thái hàng `1 2 3 4` được giải, một thuật toán thực hiện đi ngược hết tất cả các khả năng của 5 ô (1, 2, 3, 4, và ô trống). Như vậy, bộ nhớ ngoài sẽ lưu trữ lời giải tối ưu để giải hết hàng đầu tiên. Tương tự cho cột `5 9 13`. Như vậy, bài toán được quy về bài toán 8-puzzle. Bài toán 8-puzzle là giải được hiệu quả bằng các thuật toán tìm kiếm cơ bản.\n",
    "\n",
    "Nhóm quyết định làm theo cách thứ 2. Cụ thể, nhóm tạo sẵn 2 file `1234.txt` và `5913.txt` lưu trữ lời giải tối ưu cho hàng trên cùng và cột trái cùng. Các lời giải này được tạo bằng cách từ trạng thái đã giải, thuật toán BFS được thực hiện để duyệt qua mọi trạng thái có thể có và lưu trữ các bước đã thực hiện. Sau đó, với mỗi trạng thái, thuật toán đảo ngược các bước đã thực hiện và lưu vào file `.txt` cùng với trạng thái đó.\n",
    "\n",
    "Thuật toán BFS (`gen1234.py` và `gen5913.py`) mất khoảng 1 tiếng để tạo hết lời giải cho 524160 trường hợp có thể có của `1 2 3 4` và mất khoảng 5 phút để tạo hết lời giải cho 11880 trường hợp có thể có của `5 9 13`.\n",
    "\n",
    "Như vậy, việc giải hàng `1 2 3 4` và cột `5 9 13` được thực hiện với độ phức tạp tính toán `O(1)`. Bài toán bây giờ chỉ là giải 8-puzzle, với không gian tìm kiếm là nhỏ, vì vậy bây giờ có thể thực hiện tìm kiếm cơ bản.\n",
    "\n",
    "- Đối với thuật toán Layer by Layer, thuật toán giải một cách có công thức từng ô từ trên xuống dưới, từ trái sang phải.\n",
    "- Đối với thuật toán A*, hàm heuristic là khoảng cách Manhattan + linear conflict*.\n",
    "- Đối với thuật toán BFS, không có hàm heuristic, thuật toán chỉ đơn giản duyệt lần lượt các trạng thái tiếp theo.\n",
    "- Đối với thuật toán Greedy Best First Search, hàm heuristic là khoảng cách Manhattan.\n",
    "\n",
    "(*) 15-puzzle có tính chẵn lẻ, tức là có những trạng thái không thể giải được mà không hoán đổi vị trí của chỉ 2 ô (khác ô trống). Một cách đơn giản, linear conflict là số lượng các cặp ô liên tiếp (khác ô trống) mà ô ở vị trí sau có giá trị nhỏ hơn ô ở vị trí trước.\n",
    "Ví dụ: Với trạng thái `1 2 3 4 / 6 5 8 7 / 9 10 11 12 / 13 14 15 0`, khoảng cách Manhattan là 4, tuy nhiên chắc chắn cần nhiều bước hơn 4 để có thể giải được, kết hợp với linear conflict sẽ cho hàm heuristic có giá trị là 6, lớn hơn việc chỉ dùng khoảng cách Manhattan. Mặc dù đây chưa sát với số lượng bước đi tối thiểu cần thực hiện thực tế, nhưng rõ ràng là hàm heuristic như vậy đã là tốt hơn so với chỉ dùng khoảng cách Manhattan."
   ]
  },
  {
   "cell_type": "markdown",
   "metadata": {},
   "source": [
    "### Chương trình"
   ]
  },
  {
   "cell_type": "markdown",
   "metadata": {},
   "source": [
    "Chương trình có thể được chạy trực tiếp từ file báo cáo này mà không cần cài đặt thêm thư viện hay package nào. Nếu sử dụng VS Code, hãy đảm bảo rằng file báo cáo được mở trong cùng thư mục với mã nguồn."
   ]
  },
  {
   "cell_type": "code",
   "execution_count": 4,
   "metadata": {},
   "outputs": [
    {
     "name": "stdout",
     "output_type": "stream",
     "text": [
      "start LBL\n",
      "LBL done\n",
      "\n",
      "start Fringe-BFS\n",
      "\u001b[KD R D L U R U L D R R U L L D D R R U L D L U R R D L U L D R R\n",
      "Fringe-BFS done\n",
      "\n",
      "start Greedy best first search\n",
      "Greedy best first search done\n",
      "\n",
      "start Fringe-A*\n",
      "\u001b[KD R D L U R U L D R R U L L D D R R U L D L U R R D L U L D R R\n",
      "Fringe A* done\n",
      "\n"
     ]
    }
   ],
   "source": [
    "from main import main\n",
    "\n",
    "if __name__ == \"__main__\":\n",
    "    main()"
   ]
  },
  {
   "cell_type": "markdown",
   "metadata": {},
   "source": [
    "### Phân tích, đánh giá kết quả\n",
    "Nhìn chung, cả 4 thuật toán đều tìm được lời giải với thời gian nhanh, dao động từ vài milli giây đến vài giây. Trong hầu hết các trường hợp:\n",
    "\n",
    "- Xét về thời gian tìm lời giải: LBL < GBFS < FA* < FBFS\n",
    "- Xét về độ dài của lời giải: FBFS ~ FA* < LBL < GBFS\n",
    "\n",
    "Lý do độ dài của lời giải FA* và FBFS gần như giống nhau trong nhiều trường hợp (trong các trường hợp khác nhau thì lời giải của FBFS luôn ngắn hơn) là vì không gian tìm kiếm của 8-puzzle là nhỏ, đủ để tìm được lời giải tối ưu, trong khi đó việc giải quyết hàng `1 2 3 4` và cột `5 9 13` là giống hệt nhau.\n",
    "\n",
    "Như vậy, theo quan điểm chủ quan của nhóm, nếu không muốn tốn chi phí bộ nhớ ngoài (ROM) thì lựa chọn thuật toán LBL. Tuy nhiên, lựa chọn tốt nhất (về mặt thời gian tìm lời giải, độ dài của lời giải, và chi phí lưu trữ vật lý) là FBFS. Đây có thể coi là sự cân bằng tốt giữa hiệu năng và bộ nhớ."
   ]
  },
  {
   "cell_type": "markdown",
   "metadata": {},
   "source": [
    "### Cập nhật phân công, khối lượng công việc\n",
    "<!-- công việc của các thành viên, tỷ lệ đóng góp của các thành viên -->\n",
    "- Nông Quốc Khánh 20226088:\n",
    "    - Triển khai thuật toán Layer by Layer (`layer_by_layer.py`).\n",
    "    - Nghiên cứu cơ sở lý thuyết, các thuật toán phổ biến hiện nay.\n",
    "    - Triển khai xây dựng cơ sở dữ liệu lời giải cho hàng trên cùng và cột trái cùng (`gen1234.py` và `gen5913.py`).\n",
    "    - Thiết kế, lập trình giao diện (`plot_board.py`).\n",
    "- Đỗ Quang Bắc Kỳ 20226111:\n",
    "    - Triển khai thuật toán A* kết hợp với lời giải tạo sẵn cho hàng trên cùng và cột trái cùng (gọi là phương pháp Fringe-A*: `fringe_astar.py`).\n",
    "- Nguyễn Minh Tuấn 20226095:\n",
    "    - Triển khai thuật toán BFS kết hợp với lời giải tạo sẵn cho hàng trên cùng và cột trái cùng (gọi là phương pháp Fringe-BFS: `fringe_bfs.py`).\n",
    "- Nguyễn Duy Anh 20226103:\n",
    "    - Triển khai thuật toán Greedy Best First Search (`gbfs.py`)."
   ]
  }
 ],
 "metadata": {
  "kernelspec": {
   "display_name": "Python 3",
   "language": "python",
   "name": "python3"
  },
  "language_info": {
   "codemirror_mode": {
    "name": "ipython",
    "version": 3
   },
   "file_extension": ".py",
   "mimetype": "text/x-python",
   "name": "python",
   "nbconvert_exporter": "python",
   "pygments_lexer": "ipython3",
   "version": "3.12.2"
  }
 },
 "nbformat": 4,
 "nbformat_minor": 2
}
